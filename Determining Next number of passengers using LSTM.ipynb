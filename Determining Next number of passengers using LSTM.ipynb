{
 "cells": [
  {
   "cell_type": "markdown",
   "metadata": {},
   "source": [
    "##### no of passengers for next month"
   ]
  },
  {
   "cell_type": "code",
   "execution_count": 1,
   "metadata": {},
   "outputs": [],
   "source": [
    "import pandas as pd\n",
    "import numpy as np"
   ]
  },
  {
   "cell_type": "code",
   "execution_count": 2,
   "metadata": {},
   "outputs": [
    {
     "name": "stderr",
     "output_type": "stream",
     "text": [
      "Using TensorFlow backend.\n"
     ]
    }
   ],
   "source": [
    "import math\n",
    "from keras.models import Sequential\n",
    "from keras.layers import Dense,LSTM\n",
    "from sklearn.preprocessing import MinMaxScaler\n",
    "from keras import optimizers"
   ]
  },
  {
   "cell_type": "code",
   "execution_count": 3,
   "metadata": {},
   "outputs": [],
   "source": [
    "data=pd.read_csv(\"airline-passengers.csv\",usecols=[1])"
   ]
  },
  {
   "cell_type": "code",
   "execution_count": 4,
   "metadata": {},
   "outputs": [],
   "source": [
    "data=data.values\n",
    "data=data.astype(\"float32\")"
   ]
  },
  {
   "cell_type": "code",
   "execution_count": 5,
   "metadata": {},
   "outputs": [],
   "source": [
    "# normalize the dataset\n",
    "scaler = MinMaxScaler()\n",
    "data= scaler.fit_transform(data)"
   ]
  },
  {
   "cell_type": "code",
   "execution_count": 6,
   "metadata": {},
   "outputs": [],
   "source": [
    "def create_dataset(data, previous=1):\n",
    "    dataX, dataY = [], []\n",
    "    for i in range(len(data)-previous-1):\n",
    "        a = data[i:(i+previous), 0]\n",
    "        dataX.append(a)\n",
    "        dataY.append(data[i + previous, 0])\n",
    "    return np.array(dataX), np.array(dataY)"
   ]
  },
  {
   "cell_type": "code",
   "execution_count": 7,
   "metadata": {},
   "outputs": [
    {
     "name": "stdout",
     "output_type": "stream",
     "text": [
      "96 48\n"
     ]
    }
   ],
   "source": [
    "train_size = int(len(data) * 0.67) \n",
    "test_size = len(data) - train_size \n",
    "train, test = data[0:train_size,:], data[train_size:len(data),:] \n",
    "print(len(train), len(test))"
   ]
  },
  {
   "cell_type": "code",
   "execution_count": 8,
   "metadata": {},
   "outputs": [],
   "source": [
    "previous=1\n",
    "X_train,Y_train = create_dataset(train, previous)\n",
    "x_test, y_test = create_dataset(test, previous)"
   ]
  },
  {
   "cell_type": "code",
   "execution_count": 9,
   "metadata": {},
   "outputs": [],
   "source": [
    "\n",
    "X_train = np.reshape(X_train, (X_train.shape[0], 1, X_train.shape[1]))\n",
    "x_test = np.reshape(x_test, (x_test.shape[0], 1, x_test.shape[1]))"
   ]
  },
  {
   "cell_type": "code",
   "execution_count": 10,
   "metadata": {},
   "outputs": [],
   "source": [
    "import warnings\n",
    "warnings.filterwarnings('ignore')"
   ]
  },
  {
   "cell_type": "code",
   "execution_count": 11,
   "metadata": {},
   "outputs": [
    {
     "name": "stdout",
     "output_type": "stream",
     "text": [
      "WARNING:tensorflow:From C:\\Users\\Srinivas\\Anaconda3\\lib\\site-packages\\tensorflow\\python\\framework\\op_def_library.py:263: colocate_with (from tensorflow.python.framework.ops) is deprecated and will be removed in a future version.\n",
      "Instructions for updating:\n",
      "Colocations handled automatically by placer.\n"
     ]
    }
   ],
   "source": [
    "# create and fit the LSTM network\n",
    "model = Sequential()\n",
    "model.add(LSTM(8, input_shape=(1, previous)))\n",
    "model.add(Dense(1))\n",
    "model.compile(loss='mean_squared_error', optimizer='adam')"
   ]
  },
  {
   "cell_type": "code",
   "execution_count": 12,
   "metadata": {},
   "outputs": [
    {
     "name": "stdout",
     "output_type": "stream",
     "text": [
      "WARNING:tensorflow:From C:\\Users\\Srinivas\\Anaconda3\\lib\\site-packages\\tensorflow\\python\\ops\\math_ops.py:3066: to_int32 (from tensorflow.python.ops.math_ops) is deprecated and will be removed in a future version.\n",
      "Instructions for updating:\n",
      "Use tf.cast instead.\n",
      "Epoch 1/100\n",
      " - 3s - loss: 0.0149\n",
      "Epoch 2/100\n",
      " - 0s - loss: 0.0135\n",
      "Epoch 3/100\n",
      " - 1s - loss: 0.0129\n",
      "Epoch 4/100\n",
      " - 1s - loss: 0.0114\n",
      "Epoch 5/100\n",
      " - 1s - loss: 0.0099\n",
      "Epoch 6/100\n",
      " - 0s - loss: 0.0084\n",
      "Epoch 7/100\n",
      " - 0s - loss: 0.0069\n",
      "Epoch 8/100\n",
      " - 0s - loss: 0.0056\n",
      "Epoch 9/100\n",
      " - 0s - loss: 0.0045\n",
      "Epoch 10/100\n",
      " - 0s - loss: 0.0036\n",
      "Epoch 11/100\n",
      " - 0s - loss: 0.0030\n",
      "Epoch 12/100\n",
      " - 0s - loss: 0.0026\n",
      "Epoch 13/100\n",
      " - 0s - loss: 0.0023\n",
      "Epoch 14/100\n",
      " - 0s - loss: 0.0022\n",
      "Epoch 15/100\n",
      " - 0s - loss: 0.0021\n",
      "Epoch 16/100\n",
      " - 0s - loss: 0.0021\n",
      "Epoch 17/100\n",
      " - 0s - loss: 0.0021\n",
      "Epoch 18/100\n",
      " - 0s - loss: 0.0021\n",
      "Epoch 19/100\n",
      " - 0s - loss: 0.0021\n",
      "Epoch 20/100\n",
      " - 0s - loss: 0.0021\n",
      "Epoch 21/100\n",
      " - 0s - loss: 0.0021\n",
      "Epoch 22/100\n",
      " - 0s - loss: 0.0021\n",
      "Epoch 23/100\n",
      " - 0s - loss: 0.0021\n",
      "Epoch 24/100\n",
      " - 0s - loss: 0.0021\n",
      "Epoch 25/100\n",
      " - 0s - loss: 0.0021\n",
      "Epoch 26/100\n",
      " - 0s - loss: 0.0021\n",
      "Epoch 27/100\n",
      " - 0s - loss: 0.0021\n",
      "Epoch 28/100\n",
      " - 0s - loss: 0.0021\n",
      "Epoch 29/100\n",
      " - 0s - loss: 0.0020\n",
      "Epoch 30/100\n",
      " - 0s - loss: 0.0020\n",
      "Epoch 31/100\n",
      " - 0s - loss: 0.0020\n",
      "Epoch 32/100\n",
      " - 0s - loss: 0.0020\n",
      "Epoch 33/100\n",
      " - 0s - loss: 0.0020\n",
      "Epoch 34/100\n",
      " - 0s - loss: 0.0020\n",
      "Epoch 35/100\n",
      " - 0s - loss: 0.0020\n",
      "Epoch 36/100\n",
      " - 0s - loss: 0.0020\n",
      "Epoch 37/100\n",
      " - 0s - loss: 0.0020\n",
      "Epoch 38/100\n",
      " - 0s - loss: 0.0020\n",
      "Epoch 39/100\n",
      " - 0s - loss: 0.0020\n",
      "Epoch 40/100\n",
      " - 0s - loss: 0.0020\n",
      "Epoch 41/100\n",
      " - 0s - loss: 0.0020\n",
      "Epoch 42/100\n",
      " - 0s - loss: 0.0020\n",
      "Epoch 43/100\n",
      " - 0s - loss: 0.0020\n",
      "Epoch 44/100\n",
      " - 0s - loss: 0.0020\n",
      "Epoch 45/100\n",
      " - 0s - loss: 0.0020\n",
      "Epoch 46/100\n",
      " - 0s - loss: 0.0020\n",
      "Epoch 47/100\n",
      " - 0s - loss: 0.0020\n",
      "Epoch 48/100\n",
      " - 0s - loss: 0.0020\n",
      "Epoch 49/100\n",
      " - 0s - loss: 0.0020\n",
      "Epoch 50/100\n",
      " - 0s - loss: 0.0020\n",
      "Epoch 51/100\n",
      " - 0s - loss: 0.0020\n",
      "Epoch 52/100\n",
      " - 0s - loss: 0.0020\n",
      "Epoch 53/100\n",
      " - 0s - loss: 0.0020\n",
      "Epoch 54/100\n",
      " - 0s - loss: 0.0020\n",
      "Epoch 55/100\n",
      " - 0s - loss: 0.0020\n",
      "Epoch 56/100\n",
      " - 0s - loss: 0.0020\n",
      "Epoch 57/100\n",
      " - 0s - loss: 0.0020\n",
      "Epoch 58/100\n",
      " - 0s - loss: 0.0020\n",
      "Epoch 59/100\n",
      " - 0s - loss: 0.0020\n",
      "Epoch 60/100\n",
      " - 0s - loss: 0.0020\n",
      "Epoch 61/100\n",
      " - 0s - loss: 0.0020\n",
      "Epoch 62/100\n",
      " - 0s - loss: 0.0020\n",
      "Epoch 63/100\n",
      " - 0s - loss: 0.0020\n",
      "Epoch 64/100\n",
      " - 0s - loss: 0.0020\n",
      "Epoch 65/100\n",
      " - 0s - loss: 0.0020\n",
      "Epoch 66/100\n",
      " - 0s - loss: 0.0020\n",
      "Epoch 67/100\n",
      " - 0s - loss: 0.0020\n",
      "Epoch 68/100\n",
      " - 0s - loss: 0.0020\n",
      "Epoch 69/100\n",
      " - 0s - loss: 0.0020\n",
      "Epoch 70/100\n",
      " - 0s - loss: 0.0020\n",
      "Epoch 71/100\n",
      " - 0s - loss: 0.0020\n",
      "Epoch 72/100\n",
      " - 0s - loss: 0.0020\n",
      "Epoch 73/100\n",
      " - 0s - loss: 0.0020\n",
      "Epoch 74/100\n",
      " - 0s - loss: 0.0020\n",
      "Epoch 75/100\n",
      " - 0s - loss: 0.0020\n",
      "Epoch 76/100\n",
      " - 0s - loss: 0.0020\n",
      "Epoch 77/100\n",
      " - 0s - loss: 0.0020\n",
      "Epoch 78/100\n",
      " - 0s - loss: 0.0020\n",
      "Epoch 79/100\n",
      " - 0s - loss: 0.0020\n",
      "Epoch 80/100\n",
      " - 0s - loss: 0.0020\n",
      "Epoch 81/100\n",
      " - 0s - loss: 0.0020\n",
      "Epoch 82/100\n",
      " - 0s - loss: 0.0020\n",
      "Epoch 83/100\n",
      " - 0s - loss: 0.0020\n",
      "Epoch 84/100\n",
      " - 0s - loss: 0.0020\n",
      "Epoch 85/100\n",
      " - 0s - loss: 0.0020\n",
      "Epoch 86/100\n",
      " - 0s - loss: 0.0020\n",
      "Epoch 87/100\n",
      " - 0s - loss: 0.0020\n",
      "Epoch 88/100\n",
      " - 0s - loss: 0.0020\n",
      "Epoch 89/100\n",
      " - 0s - loss: 0.0020\n",
      "Epoch 90/100\n",
      " - 0s - loss: 0.0020\n",
      "Epoch 91/100\n",
      " - 0s - loss: 0.0020\n",
      "Epoch 92/100\n",
      " - 0s - loss: 0.0020\n",
      "Epoch 93/100\n",
      " - 0s - loss: 0.0020\n",
      "Epoch 94/100\n",
      " - 0s - loss: 0.0020\n",
      "Epoch 95/100\n",
      " - 0s - loss: 0.0020\n",
      "Epoch 96/100\n",
      " - 0s - loss: 0.0020\n",
      "Epoch 97/100\n",
      " - 0s - loss: 0.0020\n",
      "Epoch 98/100\n",
      " - 0s - loss: 0.0020\n",
      "Epoch 99/100\n",
      " - 0s - loss: 0.0020\n",
      "Epoch 100/100\n",
      " - 0s - loss: 0.0020\n"
     ]
    },
    {
     "data": {
      "text/plain": [
       "<keras.callbacks.History at 0x7912fe9dd8>"
      ]
     },
     "execution_count": 12,
     "metadata": {},
     "output_type": "execute_result"
    }
   ],
   "source": [
    "model.fit(X_train,Y_train, epochs=100, batch_size=1, verbose=2, shuffle=False)"
   ]
  },
  {
   "cell_type": "code",
   "execution_count": 13,
   "metadata": {},
   "outputs": [],
   "source": [
    "Pred_test= model.predict(x_test)"
   ]
  },
  {
   "cell_type": "code",
   "execution_count": 14,
   "metadata": {},
   "outputs": [],
   "source": [
    "Pred_test = scaler.inverse_transform(Pred_test)"
   ]
  },
  {
   "cell_type": "code",
   "execution_count": 15,
   "metadata": {},
   "outputs": [
    {
     "data": {
      "text/plain": [
       "array([[317.58765],\n",
       "       [304.88873],\n",
       "       [353.96466],\n",
       "       [346.96896],\n",
       "       [353.09305],\n",
       "       [409.53268],\n",
       "       [443.46533],\n",
       "       [444.997  ],\n",
       "       [394.77823],\n",
       "       [346.09085],\n",
       "       [308.53018],\n",
       "       [336.37964],\n",
       "       [339.9219 ],\n",
       "       [320.29163],\n",
       "       [359.17688],\n",
       "       [346.96896],\n",
       "       [360.04257],\n",
       "       [419.9903 ],\n",
       "       [463.0448 ],\n",
       "       [473.28616],\n",
       "       [394.77823],\n",
       "       [356.57455],\n",
       "       [313.06732],\n",
       "       [337.26636],\n",
       "       [357.4428 ],\n",
       "       [341.6884 ],\n",
       "       [396.43307],\n",
       "       [388.12097],\n",
       "       [407.9089 ],\n",
       "       [448.80762],\n",
       "       [503.40128],\n",
       "       [510.77805],\n",
       "       [441.92944],\n",
       "       [397.25906],\n",
       "       [359.17688],\n",
       "       [395.60605],\n",
       "       [405.46588],\n",
       "       [383.9298 ],\n",
       "       [407.09546],\n",
       "       [440.38937],\n",
       "       [448.80762],\n",
       "       [494.5112 ],\n",
       "       [550.46606],\n",
       "       [540.7973 ],\n",
       "       [475.45297],\n",
       "       [440.38937]], dtype=float32)"
      ]
     },
     "execution_count": 15,
     "metadata": {},
     "output_type": "execute_result"
    }
   ],
   "source": [
    "Pred_test"
   ]
  },
  {
   "cell_type": "markdown",
   "metadata": {},
   "source": [
    "model using optimizer --SGD and epochs of 50"
   ]
  },
  {
   "cell_type": "code",
   "execution_count": 16,
   "metadata": {},
   "outputs": [],
   "source": [
    "# create and fit the LSTM network\n",
    "model1 = Sequential()\n",
    "model1.add(LSTM(8, input_shape=(1, previous),))\n",
    "model1.add(Dense(1))\n",
    "model1.compile(loss='mean_squared_error', optimizer='SGD')"
   ]
  },
  {
   "cell_type": "code",
   "execution_count": 17,
   "metadata": {},
   "outputs": [
    {
     "name": "stdout",
     "output_type": "stream",
     "text": [
      "Epoch 1/50\n",
      " - 3s - loss: 0.0191\n",
      "Epoch 2/50\n",
      " - 0s - loss: 0.0158\n",
      "Epoch 3/50\n",
      " - 0s - loss: 0.0170\n",
      "Epoch 4/50\n",
      " - 0s - loss: 0.0170\n",
      "Epoch 5/50\n",
      " - 0s - loss: 0.0168\n",
      "Epoch 6/50\n",
      " - 0s - loss: 0.0167\n",
      "Epoch 7/50\n",
      " - 0s - loss: 0.0165\n",
      "Epoch 8/50\n",
      " - 0s - loss: 0.0163\n",
      "Epoch 9/50\n",
      " - 0s - loss: 0.0161\n",
      "Epoch 10/50\n",
      " - 0s - loss: 0.0159\n",
      "Epoch 11/50\n",
      " - 0s - loss: 0.0157\n",
      "Epoch 12/50\n",
      " - 0s - loss: 0.0156\n",
      "Epoch 13/50\n",
      " - 0s - loss: 0.0154\n",
      "Epoch 14/50\n",
      " - 0s - loss: 0.0152\n",
      "Epoch 15/50\n",
      " - 0s - loss: 0.0150\n",
      "Epoch 16/50\n",
      " - 0s - loss: 0.0149\n",
      "Epoch 17/50\n",
      " - 0s - loss: 0.0147\n",
      "Epoch 18/50\n",
      " - 0s - loss: 0.0145\n",
      "Epoch 19/50\n",
      " - 0s - loss: 0.0144\n",
      "Epoch 20/50\n",
      " - 0s - loss: 0.0142\n",
      "Epoch 21/50\n",
      " - 0s - loss: 0.0140\n",
      "Epoch 22/50\n",
      " - 0s - loss: 0.0139\n",
      "Epoch 23/50\n",
      " - 0s - loss: 0.0137\n",
      "Epoch 24/50\n",
      " - 0s - loss: 0.0136\n",
      "Epoch 25/50\n",
      " - 0s - loss: 0.0134\n",
      "Epoch 26/50\n",
      " - 0s - loss: 0.0133\n",
      "Epoch 27/50\n",
      " - 0s - loss: 0.0131\n",
      "Epoch 28/50\n",
      " - 0s - loss: 0.0129\n",
      "Epoch 29/50\n",
      " - 0s - loss: 0.0128\n",
      "Epoch 30/50\n",
      " - 0s - loss: 0.0126\n",
      "Epoch 31/50\n",
      " - 0s - loss: 0.0125\n",
      "Epoch 32/50\n",
      " - 0s - loss: 0.0123\n",
      "Epoch 33/50\n",
      " - 0s - loss: 0.0122\n",
      "Epoch 34/50\n",
      " - 0s - loss: 0.0121\n",
      "Epoch 35/50\n",
      " - 0s - loss: 0.0119\n",
      "Epoch 36/50\n",
      " - 0s - loss: 0.0118\n",
      "Epoch 37/50\n",
      " - 0s - loss: 0.0116\n",
      "Epoch 38/50\n",
      " - 0s - loss: 0.0115\n",
      "Epoch 39/50\n",
      " - 0s - loss: 0.0113\n",
      "Epoch 40/50\n",
      " - 0s - loss: 0.0112\n",
      "Epoch 41/50\n",
      " - 0s - loss: 0.0111\n",
      "Epoch 42/50\n",
      " - 0s - loss: 0.0109\n",
      "Epoch 43/50\n",
      " - 0s - loss: 0.0108\n",
      "Epoch 44/50\n",
      " - 0s - loss: 0.0107\n",
      "Epoch 45/50\n",
      " - 0s - loss: 0.0105\n",
      "Epoch 46/50\n",
      " - 0s - loss: 0.0104\n",
      "Epoch 47/50\n",
      " - 0s - loss: 0.0103\n",
      "Epoch 48/50\n",
      " - 0s - loss: 0.0101\n",
      "Epoch 49/50\n",
      " - 0s - loss: 0.0100\n",
      "Epoch 50/50\n",
      " - 0s - loss: 0.0099\n"
     ]
    },
    {
     "data": {
      "text/plain": [
       "<keras.callbacks.History at 0x79174b01d0>"
      ]
     },
     "execution_count": 17,
     "metadata": {},
     "output_type": "execute_result"
    }
   ],
   "source": [
    "model1.fit(X_train,Y_train, epochs=50, batch_size=1, verbose=2, shuffle=False)"
   ]
  },
  {
   "cell_type": "code",
   "execution_count": 18,
   "metadata": {},
   "outputs": [],
   "source": [
    "Pred_test1 = model1.predict(x_test)"
   ]
  },
  {
   "cell_type": "code",
   "execution_count": 19,
   "metadata": {},
   "outputs": [],
   "source": [
    "Pred_test1=scaler.inverse_transform(Pred_test1)"
   ]
  },
  {
   "cell_type": "code",
   "execution_count": 20,
   "metadata": {},
   "outputs": [
    {
     "data": {
      "text/plain": [
       "array([[272.0812 ],\n",
       "       [268.15826],\n",
       "       [283.46884],\n",
       "       [281.2597 ],\n",
       "       [283.19308],\n",
       "       [301.41833],\n",
       "       [312.81076],\n",
       "       [313.3342 ],\n",
       "       [296.57532],\n",
       "       [280.9831 ],\n",
       "       [269.28073],\n",
       "       [277.93393],\n",
       "       [279.04407],\n",
       "       [272.9197 ],\n",
       "       [285.12137],\n",
       "       [281.2597 ],\n",
       "       [285.3964 ],\n",
       "       [304.88965],\n",
       "       [319.56894],\n",
       "       [323.16486],\n",
       "       [296.57532],\n",
       "       [284.29556],\n",
       "       [270.682  ],\n",
       "       [278.2116 ],\n",
       "       [284.57095],\n",
       "       [279.59857],\n",
       "       [297.11548],\n",
       "       [294.40967],\n",
       "       [300.88232],\n",
       "       [314.6403 ],\n",
       "       [334.01132],\n",
       "       [336.73624],\n",
       "       [312.28668],\n",
       "       [297.38535],\n",
       "       [285.12137],\n",
       "       [296.84543],\n",
       "       [300.07724],\n",
       "       [293.05222],\n",
       "       [300.6141 ],\n",
       "       [311.7621 ],\n",
       "       [314.6403 ],\n",
       "       [330.76443],\n",
       "       [351.93326],\n",
       "       [348.1411 ],\n",
       "       [323.93137],\n",
       "       [311.7621 ]], dtype=float32)"
      ]
     },
     "execution_count": 20,
     "metadata": {},
     "output_type": "execute_result"
    }
   ],
   "source": [
    "Pred_test1"
   ]
  },
  {
   "cell_type": "code",
   "execution_count": null,
   "metadata": {},
   "outputs": [],
   "source": []
  }
 ],
 "metadata": {
  "kernelspec": {
   "display_name": "Python 3",
   "language": "python",
   "name": "python3"
  },
  "language_info": {
   "codemirror_mode": {
    "name": "ipython",
    "version": 3
   },
   "file_extension": ".py",
   "mimetype": "text/x-python",
   "name": "python",
   "nbconvert_exporter": "python",
   "pygments_lexer": "ipython3",
   "version": "3.7.3"
  }
 },
 "nbformat": 4,
 "nbformat_minor": 2
}
